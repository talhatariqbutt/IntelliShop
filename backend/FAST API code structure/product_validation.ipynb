{
 "cells": [
  {
   "cell_type": "code",
   "execution_count": 7,
   "id": "a4ee583f",
   "metadata": {},
   "outputs": [],
   "source": [
    "from selenium import webdriver\n",
    "from selenium.webdriver.chrome.service import Service as ChromeService\n",
    "from selenium.webdriver.common.by import By\n",
    "from selenium.webdriver.chrome.options import Options\n",
    "from selenium.webdriver.support.ui import WebDriverWait\n",
    "from selenium.webdriver.support import expected_conditions as EC\n",
    "import warnings\n",
    "warnings.filterwarnings('ignore')"
   ]
  },
  {
   "cell_type": "markdown",
   "id": "b10def9d",
   "metadata": {},
   "source": [
    "1) Download chromedriver for chrome versin 124 above from the [link](https://storage.googleapis.com/chrome-for-testing-public/125.0.6422.76/win64/chromedriver-win64.zip)\n",
    "\n",
    "2) Store it in desired location.\n",
    "\n",
    "3) Copy and paste its path in the fucntion in chromeservice(executable_path=\"path to chromeDriver\")\n",
    "\n",
    "4) Run \n",
    "\n",
    "**Fin**"
   ]
  },
  {
   "cell_type": "code",
   "execution_count": 8,
   "id": "2cdbc97d",
   "metadata": {},
   "outputs": [],
   "source": [
    "def check_sizes(url):\n",
    "    # Setup Selenium with Chrome WebDriver\n",
    "    options = Options()\n",
    "    options.headless = True  # Run in headless mode\n",
    "    service = ChromeService(executable_path=r\"D:\\selenium\\chromedriver-win64\\chromedriver-win64\\chromedriver.exe\")\n",
    "\n",
    "    driver = webdriver.Chrome(service=service, options=options)\n",
    "    driver.get(url)\n",
    "\n",
    "    try:\n",
    "        # Wait until the swatch-view list is present\n",
    "        WebDriverWait(driver, 10).until(\n",
    "            EC.presence_of_element_located((By.CLASS_NAME, \"swatch-view\"))\n",
    "        )\n",
    "\n",
    "        # Locate size elements\n",
    "        size_elements = driver.find_elements(By.CSS_SELECTOR, \".swatch-view-item\")\n",
    "\n",
    "        sizes_info = {}\n",
    "        for size_element in size_elements:\n",
    "            size_name = size_element.get_attribute(\"orig-value\")\n",
    "            is_unavailable = \"swatch-item-unavailable\" in size_element.get_attribute(\"class\")\n",
    "            sizes_info[size_name] = \"Sold Out\" if is_unavailable else \"In Stock\"\n",
    "\n",
    "        return sizes_info\n",
    "\n",
    "    finally:\n",
    "        driver.quit()\n"
   ]
  },
  {
   "cell_type": "code",
   "execution_count": 9,
   "id": "9ff43f7c",
   "metadata": {
    "scrolled": false
   },
   "outputs": [
    {
     "name": "stdout",
     "output_type": "stream",
     "text": [
      "Size: WHITE - Status: In Stock\n",
      "Size: ROYAL BLUE - Status: In Stock\n",
      "Size: MAROON - Status: In Stock\n",
      "Size: BEIGE - Status: In Stock\n",
      "Size: SMALL - Status: Sold Out\n",
      "Size: MEDIUM - Status: Sold Out\n",
      "Size: LARGE - Status: Sold Out\n",
      "Size: X-LARGE - Status: In Stock\n",
      "Size: XX-LARGE - Status: Sold Out\n",
      "Size: NAVY - Status: In Stock\n",
      "Size: BROWN - Status: In Stock\n",
      "Size: BLACK - Status: In Stock\n"
     ]
    }
   ],
   "source": [
    "# Example usage\n",
    "url = \"https://lamaretail.com/collections/man-blazers/products/premium-linen-blazer-udcmwt0009-beige\"\n",
    "sizes_info = check_sizes(url)\n",
    "\n",
    "for size, status in sizes_info.items():\n",
    "    print(f\"Size: {size} - Status: {status}\")"
   ]
  }
 ],
 "metadata": {
  "kernelspec": {
   "display_name": "Python 3 (ipykernel)",
   "language": "python",
   "name": "python3"
  },
  "language_info": {
   "codemirror_mode": {
    "name": "ipython",
    "version": 3
   },
   "file_extension": ".py",
   "mimetype": "text/x-python",
   "name": "python",
   "nbconvert_exporter": "python",
   "pygments_lexer": "ipython3",
   "version": "3.9.13"
  }
 },
 "nbformat": 4,
 "nbformat_minor": 5
}
